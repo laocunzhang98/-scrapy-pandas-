{
 "cells": [
  {
   "cell_type": "code",
   "execution_count": 1,
   "metadata": {},
   "outputs": [],
   "source": [
    "import pandas as pd "
   ]
  },
  {
   "cell_type": "code",
   "execution_count": 4,
   "metadata": {},
   "outputs": [
    {
     "data": {
      "text/html": [
       "<div>\n",
       "<style scoped>\n",
       "    .dataframe tbody tr th:only-of-type {\n",
       "        vertical-align: middle;\n",
       "    }\n",
       "\n",
       "    .dataframe tbody tr th {\n",
       "        vertical-align: top;\n",
       "    }\n",
       "\n",
       "    .dataframe thead th {\n",
       "        text-align: right;\n",
       "    }\n",
       "</style>\n",
       "<table border=\"1\" class=\"dataframe\">\n",
       "  <thead>\n",
       "    <tr style=\"text-align: right;\">\n",
       "      <th></th>\n",
       "      <th>受理单位</th>\n",
       "      <th>分类</th>\n",
       "      <th>主题</th>\n",
       "      <th>受理时间</th>\n",
       "      <th>办结时间</th>\n",
       "      <th>办理状态</th>\n",
       "    </tr>\n",
       "  </thead>\n",
       "  <tbody>\n",
       "    <tr>\n",
       "      <th>0</th>\n",
       "      <td>部门</td>\n",
       "      <td>\\n投诉\\n</td>\n",
       "      <td>唐山唐古路与钢厂道交叉口违停现场严重</td>\n",
       "      <td>\\n2020-04-24\\n</td>\n",
       "      <td>\\n2020-04-28\\n</td>\n",
       "      <td>已办结\\n</td>\n",
       "    </tr>\n",
       "    <tr>\n",
       "      <th>1</th>\n",
       "      <td>部门</td>\n",
       "      <td>\\n投诉\\n</td>\n",
       "      <td>河北廊坊固安剑桥郡小区经常性停电 盼解决</td>\n",
       "      <td>\\n2020-04-21\\n</td>\n",
       "      <td>\\n2020-04-28\\n</td>\n",
       "      <td>已办结\\n</td>\n",
       "    </tr>\n",
       "    <tr>\n",
       "      <th>2</th>\n",
       "      <td>部门</td>\n",
       "      <td>\\n投诉\\n</td>\n",
       "      <td>河北邯郸丛台区汉城华都小区东区工地噪音扰民</td>\n",
       "      <td>\\n2020-04-23\\n</td>\n",
       "      <td>\\n2020-04-28\\n</td>\n",
       "      <td>已办结\\n</td>\n",
       "    </tr>\n",
       "    <tr>\n",
       "      <th>3</th>\n",
       "      <td>部门</td>\n",
       "      <td>\\n投诉\\n</td>\n",
       "      <td>河北唐山路北区钢城水岸违章建筑影响采光</td>\n",
       "      <td>\\n2020-04-28\\n</td>\n",
       "      <td>\\n2020-04-28\\n</td>\n",
       "      <td>已办结\\n</td>\n",
       "    </tr>\n",
       "    <tr>\n",
       "      <th>4</th>\n",
       "      <td>部门</td>\n",
       "      <td>\\n投诉\\n</td>\n",
       "      <td>NaN</td>\n",
       "      <td>\\n2020-01-02\\n</td>\n",
       "      <td>\\n2020-04-28\\n</td>\n",
       "      <td>已办结\\n</td>\n",
       "    </tr>\n",
       "    <tr>\n",
       "      <th>...</th>\n",
       "      <td>...</td>\n",
       "      <td>...</td>\n",
       "      <td>...</td>\n",
       "      <td>...</td>\n",
       "      <td>...</td>\n",
       "      <td>...</td>\n",
       "    </tr>\n",
       "    <tr>\n",
       "      <th>1115</th>\n",
       "      <td>国网献县供电公司</td>\n",
       "      <td>\\n投诉\\n</td>\n",
       "      <td>沧州市献县诚宇家园正门口有一根电线杆 车辆出行极为不便</td>\n",
       "      <td>\\n2019-12-27\\n</td>\n",
       "      <td>\\n2020-04-21\\n</td>\n",
       "      <td>已办结\\n</td>\n",
       "    </tr>\n",
       "    <tr>\n",
       "      <th>1116</th>\n",
       "      <td>国网献县供电公司</td>\n",
       "      <td>\\n投诉\\n</td>\n",
       "      <td>河北沧州市献县电力局拖欠外委人员工资 不给缴纳保险</td>\n",
       "      <td>\\n2020-04-15\\n</td>\n",
       "      <td>\\n2020-04-21\\n</td>\n",
       "      <td>已办结\\n</td>\n",
       "    </tr>\n",
       "    <tr>\n",
       "      <th>1117</th>\n",
       "      <td>衡水市住房和城乡建设局</td>\n",
       "      <td>\\n投诉\\n</td>\n",
       "      <td>河北衡水龙源东郡项目何时复工？</td>\n",
       "      <td>\\n2020-04-14\\n</td>\n",
       "      <td>\\n2020-04-21\\n</td>\n",
       "      <td>已办结\\n</td>\n",
       "    </tr>\n",
       "    <tr>\n",
       "      <th>1118</th>\n",
       "      <td>衡水市住房和城乡建设局</td>\n",
       "      <td>\\n投诉\\n</td>\n",
       "      <td>河北衡水星河湾荣景园五证不全退房难</td>\n",
       "      <td>\\n2020-04-14\\n</td>\n",
       "      <td>\\n2020-04-21\\n</td>\n",
       "      <td>已办结\\n</td>\n",
       "    </tr>\n",
       "    <tr>\n",
       "      <th>1119</th>\n",
       "      <td>部门</td>\n",
       "      <td>\\n投诉\\n</td>\n",
       "      <td>河北邯郸市丛台区邯印社区夜间施工扰民 深夜无眠</td>\n",
       "      <td>\\n2020-04-21\\n</td>\n",
       "      <td>\\n2020-04-21\\n</td>\n",
       "      <td>已办结\\n</td>\n",
       "    </tr>\n",
       "  </tbody>\n",
       "</table>\n",
       "<p>1120 rows × 6 columns</p>\n",
       "</div>"
      ],
      "text/plain": [
       "             受理单位      分类                           主题            受理时间  \\\n",
       "0              部门  \\n投诉\\n           唐山唐古路与钢厂道交叉口违停现场严重  \\n2020-04-24\\n   \n",
       "1              部门  \\n投诉\\n         河北廊坊固安剑桥郡小区经常性停电 盼解决  \\n2020-04-21\\n   \n",
       "2              部门  \\n投诉\\n        河北邯郸丛台区汉城华都小区东区工地噪音扰民  \\n2020-04-23\\n   \n",
       "3              部门  \\n投诉\\n          河北唐山路北区钢城水岸违章建筑影响采光  \\n2020-04-28\\n   \n",
       "4              部门  \\n投诉\\n                          NaN  \\n2020-01-02\\n   \n",
       "...           ...     ...                          ...             ...   \n",
       "1115     国网献县供电公司  \\n投诉\\n  沧州市献县诚宇家园正门口有一根电线杆 车辆出行极为不便  \\n2019-12-27\\n   \n",
       "1116     国网献县供电公司  \\n投诉\\n    河北沧州市献县电力局拖欠外委人员工资 不给缴纳保险  \\n2020-04-15\\n   \n",
       "1117  衡水市住房和城乡建设局  \\n投诉\\n              河北衡水龙源东郡项目何时复工？  \\n2020-04-14\\n   \n",
       "1118  衡水市住房和城乡建设局  \\n投诉\\n            河北衡水星河湾荣景园五证不全退房难  \\n2020-04-14\\n   \n",
       "1119           部门  \\n投诉\\n      河北邯郸市丛台区邯印社区夜间施工扰民 深夜无眠  \\n2020-04-21\\n   \n",
       "\n",
       "                办结时间   办理状态  \n",
       "0     \\n2020-04-28\\n  已办结\\n  \n",
       "1     \\n2020-04-28\\n  已办结\\n  \n",
       "2     \\n2020-04-28\\n  已办结\\n  \n",
       "3     \\n2020-04-28\\n  已办结\\n  \n",
       "4     \\n2020-04-28\\n  已办结\\n  \n",
       "...              ...    ...  \n",
       "1115  \\n2020-04-21\\n  已办结\\n  \n",
       "1116  \\n2020-04-21\\n  已办结\\n  \n",
       "1117  \\n2020-04-21\\n  已办结\\n  \n",
       "1118  \\n2020-04-21\\n  已办结\\n  \n",
       "1119  \\n2020-04-21\\n  已办结\\n  \n",
       "\n",
       "[1120 rows x 6 columns]"
      ]
     },
     "execution_count": 4,
     "metadata": {},
     "output_type": "execute_result"
    }
   ],
   "source": [
    "df = pd.read_csv(\"./阳光理政.csv\",encoding='gbk')\n",
    "df"
   ]
  },
  {
   "cell_type": "code",
   "execution_count": 12,
   "metadata": {},
   "outputs": [],
   "source": [
    "df[\"办理状态\"] = df[\"办理状态\"].str.replace(\"\\n\",\"\")\n",
    "df[\"办结时间\"] = df[\"办结时间\"].str.replace(\"\\n\",\"\")\n",
    "df[\"受理时间\"] = df[\"受理时间\"].str.replace(\"\\n\",\"\")"
   ]
  },
  {
   "cell_type": "code",
   "execution_count": 23,
   "metadata": {},
   "outputs": [],
   "source": [
    "df = df.fillna({\"主题\":\"无\"}) "
   ]
  },
  {
   "cell_type": "code",
   "execution_count": 24,
   "metadata": {
    "scrolled": true
   },
   "outputs": [
    {
     "data": {
      "text/html": [
       "<div>\n",
       "<style scoped>\n",
       "    .dataframe tbody tr th:only-of-type {\n",
       "        vertical-align: middle;\n",
       "    }\n",
       "\n",
       "    .dataframe tbody tr th {\n",
       "        vertical-align: top;\n",
       "    }\n",
       "\n",
       "    .dataframe thead th {\n",
       "        text-align: right;\n",
       "    }\n",
       "</style>\n",
       "<table border=\"1\" class=\"dataframe\">\n",
       "  <thead>\n",
       "    <tr style=\"text-align: right;\">\n",
       "      <th></th>\n",
       "      <th>受理单位</th>\n",
       "      <th>分类</th>\n",
       "      <th>主题</th>\n",
       "      <th>受理时间</th>\n",
       "      <th>办结时间</th>\n",
       "      <th>办理状态</th>\n",
       "    </tr>\n",
       "  </thead>\n",
       "  <tbody>\n",
       "    <tr>\n",
       "      <th>0</th>\n",
       "      <td>部门</td>\n",
       "      <td>投诉</td>\n",
       "      <td>唐山唐古路与钢厂道交叉口违停现场严重</td>\n",
       "      <td>2020-04-24</td>\n",
       "      <td>2020-04-28</td>\n",
       "      <td>已办结</td>\n",
       "    </tr>\n",
       "    <tr>\n",
       "      <th>1</th>\n",
       "      <td>部门</td>\n",
       "      <td>投诉</td>\n",
       "      <td>河北廊坊固安剑桥郡小区经常性停电 盼解决</td>\n",
       "      <td>2020-04-21</td>\n",
       "      <td>2020-04-28</td>\n",
       "      <td>已办结</td>\n",
       "    </tr>\n",
       "    <tr>\n",
       "      <th>2</th>\n",
       "      <td>部门</td>\n",
       "      <td>投诉</td>\n",
       "      <td>河北邯郸丛台区汉城华都小区东区工地噪音扰民</td>\n",
       "      <td>2020-04-23</td>\n",
       "      <td>2020-04-28</td>\n",
       "      <td>已办结</td>\n",
       "    </tr>\n",
       "    <tr>\n",
       "      <th>3</th>\n",
       "      <td>部门</td>\n",
       "      <td>投诉</td>\n",
       "      <td>河北唐山路北区钢城水岸违章建筑影响采光</td>\n",
       "      <td>2020-04-28</td>\n",
       "      <td>2020-04-28</td>\n",
       "      <td>已办结</td>\n",
       "    </tr>\n",
       "    <tr>\n",
       "      <th>4</th>\n",
       "      <td>部门</td>\n",
       "      <td>投诉</td>\n",
       "      <td>无</td>\n",
       "      <td>2020-01-02</td>\n",
       "      <td>2020-04-28</td>\n",
       "      <td>已办结</td>\n",
       "    </tr>\n",
       "  </tbody>\n",
       "</table>\n",
       "</div>"
      ],
      "text/plain": [
       "  受理单位  分类                     主题        受理时间        办结时间 办理状态\n",
       "0   部门  投诉     唐山唐古路与钢厂道交叉口违停现场严重  2020-04-24  2020-04-28  已办结\n",
       "1   部门  投诉   河北廊坊固安剑桥郡小区经常性停电 盼解决  2020-04-21  2020-04-28  已办结\n",
       "2   部门  投诉  河北邯郸丛台区汉城华都小区东区工地噪音扰民  2020-04-23  2020-04-28  已办结\n",
       "3   部门  投诉    河北唐山路北区钢城水岸违章建筑影响采光  2020-04-28  2020-04-28  已办结\n",
       "4   部门  投诉                      无  2020-01-02  2020-04-28  已办结"
      ]
     },
     "execution_count": 24,
     "metadata": {},
     "output_type": "execute_result"
    }
   ],
   "source": [
    "df.head()"
   ]
  },
  {
   "cell_type": "code",
   "execution_count": 28,
   "metadata": {
    "collapsed": true
   },
   "outputs": [
    {
     "ename": "KeyError",
     "evalue": "\"None of ['办结时间'] are in the columns\"",
     "output_type": "error",
     "traceback": [
      "\u001b[1;31m---------------------------------------------------------------------------\u001b[0m",
      "\u001b[1;31mKeyError\u001b[0m                                  Traceback (most recent call last)",
      "\u001b[1;32m<ipython-input-28-d715b9ae45d9>\u001b[0m in \u001b[0;36m<module>\u001b[1;34m\u001b[0m\n\u001b[1;32m----> 1\u001b[1;33m \u001b[0mdf\u001b[0m\u001b[1;33m.\u001b[0m\u001b[0mset_index\u001b[0m\u001b[1;33m(\u001b[0m\u001b[1;34m\"办结时间\"\u001b[0m\u001b[1;33m,\u001b[0m\u001b[0minplace\u001b[0m\u001b[1;33m=\u001b[0m\u001b[1;32mTrue\u001b[0m\u001b[1;33m)\u001b[0m\u001b[1;33m\u001b[0m\u001b[1;33m\u001b[0m\u001b[0m\n\u001b[0m\u001b[0;32m      2\u001b[0m \u001b[0mdf\u001b[0m\u001b[1;33m\u001b[0m\u001b[1;33m\u001b[0m\u001b[0m\n",
      "\u001b[1;32mD:\\anaconda\\lib\\site-packages\\pandas\\core\\frame.py\u001b[0m in \u001b[0;36mset_index\u001b[1;34m(self, keys, drop, append, inplace, verify_integrity)\u001b[0m\n\u001b[0;32m   4301\u001b[0m \u001b[1;33m\u001b[0m\u001b[0m\n\u001b[0;32m   4302\u001b[0m         \u001b[1;32mif\u001b[0m \u001b[0mmissing\u001b[0m\u001b[1;33m:\u001b[0m\u001b[1;33m\u001b[0m\u001b[1;33m\u001b[0m\u001b[0m\n\u001b[1;32m-> 4303\u001b[1;33m             \u001b[1;32mraise\u001b[0m \u001b[0mKeyError\u001b[0m\u001b[1;33m(\u001b[0m\u001b[1;34mf\"None of {missing} are in the columns\"\u001b[0m\u001b[1;33m)\u001b[0m\u001b[1;33m\u001b[0m\u001b[1;33m\u001b[0m\u001b[0m\n\u001b[0m\u001b[0;32m   4304\u001b[0m \u001b[1;33m\u001b[0m\u001b[0m\n\u001b[0;32m   4305\u001b[0m         \u001b[1;32mif\u001b[0m \u001b[0minplace\u001b[0m\u001b[1;33m:\u001b[0m\u001b[1;33m\u001b[0m\u001b[1;33m\u001b[0m\u001b[0m\n",
      "\u001b[1;31mKeyError\u001b[0m: \"None of ['办结时间'] are in the columns\""
     ]
    }
   ],
   "source": [
    "df.set_index(\"办结时间\",inplace=True)\n",
    "df "
   ]
  },
  {
   "cell_type": "code",
   "execution_count": 42,
   "metadata": {
    "collapsed": true
   },
   "outputs": [
    {
     "data": {
      "text/html": [
       "<div>\n",
       "<style scoped>\n",
       "    .dataframe tbody tr th:only-of-type {\n",
       "        vertical-align: middle;\n",
       "    }\n",
       "\n",
       "    .dataframe tbody tr th {\n",
       "        vertical-align: top;\n",
       "    }\n",
       "\n",
       "    .dataframe thead th {\n",
       "        text-align: right;\n",
       "    }\n",
       "</style>\n",
       "<table border=\"1\" class=\"dataframe\">\n",
       "  <thead>\n",
       "    <tr style=\"text-align: right;\">\n",
       "      <th></th>\n",
       "      <th>受理单位</th>\n",
       "      <th>分类</th>\n",
       "      <th>主题</th>\n",
       "      <th>受理时间</th>\n",
       "      <th>办理状态</th>\n",
       "    </tr>\n",
       "    <tr>\n",
       "      <th>办结时间</th>\n",
       "      <th></th>\n",
       "      <th></th>\n",
       "      <th></th>\n",
       "      <th></th>\n",
       "      <th></th>\n",
       "    </tr>\n",
       "  </thead>\n",
       "  <tbody>\n",
       "    <tr>\n",
       "      <th>2020-04-21</th>\n",
       "      <td>部门</td>\n",
       "      <td>投诉</td>\n",
       "      <td>河北邯郸市丛台区邯印社区夜间施工扰民 深夜无眠</td>\n",
       "      <td>2020-04-21</td>\n",
       "      <td>已办结</td>\n",
       "    </tr>\n",
       "    <tr>\n",
       "      <th>2020-04-21</th>\n",
       "      <td>邯郸市自然资源和规划局</td>\n",
       "      <td>投诉</td>\n",
       "      <td>邯郸武安景富茗园开发商私改户型 墙体开裂</td>\n",
       "      <td>2019-04-18</td>\n",
       "      <td>已办结</td>\n",
       "    </tr>\n",
       "    <tr>\n",
       "      <th>2020-04-21</th>\n",
       "      <td>邯郸市自然资源和规划局</td>\n",
       "      <td>投诉</td>\n",
       "      <td>邯郸大名史家村无证建房 请尽快制止</td>\n",
       "      <td>2019-04-26</td>\n",
       "      <td>已办结</td>\n",
       "    </tr>\n",
       "    <tr>\n",
       "      <th>2020-04-21</th>\n",
       "      <td>国网沧州供电公司</td>\n",
       "      <td>投诉</td>\n",
       "      <td>沧州市新华区榕城世家施工院内夜晚有噪音扰民</td>\n",
       "      <td>2019-07-19</td>\n",
       "      <td>已办结</td>\n",
       "    </tr>\n",
       "    <tr>\n",
       "      <th>2020-04-21</th>\n",
       "      <td>国网沧州供电公司</td>\n",
       "      <td>投诉</td>\n",
       "      <td>沧州国富市场停车位建成门市乱接电线 安全隐患大</td>\n",
       "      <td>2019-07-18</td>\n",
       "      <td>已办结</td>\n",
       "    </tr>\n",
       "    <tr>\n",
       "      <th>...</th>\n",
       "      <td>...</td>\n",
       "      <td>...</td>\n",
       "      <td>...</td>\n",
       "      <td>...</td>\n",
       "      <td>...</td>\n",
       "    </tr>\n",
       "    <tr>\n",
       "      <th>2020-04-28</th>\n",
       "      <td>石家庄市长安区住建局</td>\n",
       "      <td>投诉</td>\n",
       "      <td>河北石家庄赫石府延期几年不交房</td>\n",
       "      <td>2020-04-24</td>\n",
       "      <td>已办结</td>\n",
       "    </tr>\n",
       "    <tr>\n",
       "      <th>2020-04-28</th>\n",
       "      <td>石家庄市长安区住建局</td>\n",
       "      <td>投诉</td>\n",
       "      <td>河北石家庄桃园丽景城何时交房</td>\n",
       "      <td>2020-04-24</td>\n",
       "      <td>已办结</td>\n",
       "    </tr>\n",
       "    <tr>\n",
       "      <th>2020-04-28</th>\n",
       "      <td>部门</td>\n",
       "      <td>投诉</td>\n",
       "      <td>河北廊坊安次区海棠园物业私自打水井 窃取水资源</td>\n",
       "      <td>2020-03-19</td>\n",
       "      <td>已办结</td>\n",
       "    </tr>\n",
       "    <tr>\n",
       "      <th>2020-04-28</th>\n",
       "      <td>围场满族蒙古族自治县教育…</td>\n",
       "      <td>投诉</td>\n",
       "      <td>无</td>\n",
       "      <td>2020-04-23</td>\n",
       "      <td>已办结</td>\n",
       "    </tr>\n",
       "    <tr>\n",
       "      <th>2020-04-28</th>\n",
       "      <td>部门</td>\n",
       "      <td>投诉</td>\n",
       "      <td>唐山唐古路与钢厂道交叉口违停现场严重</td>\n",
       "      <td>2020-04-24</td>\n",
       "      <td>已办结</td>\n",
       "    </tr>\n",
       "  </tbody>\n",
       "</table>\n",
       "<p>1120 rows × 5 columns</p>\n",
       "</div>"
      ],
      "text/plain": [
       "                     受理单位  分类                       主题        受理时间 办理状态\n",
       "办结时间                                                                   \n",
       "2020-04-21             部门  投诉  河北邯郸市丛台区邯印社区夜间施工扰民 深夜无眠  2020-04-21  已办结\n",
       "2020-04-21    邯郸市自然资源和规划局  投诉     邯郸武安景富茗园开发商私改户型 墙体开裂  2019-04-18  已办结\n",
       "2020-04-21    邯郸市自然资源和规划局  投诉        邯郸大名史家村无证建房 请尽快制止  2019-04-26  已办结\n",
       "2020-04-21       国网沧州供电公司  投诉    沧州市新华区榕城世家施工院内夜晚有噪音扰民  2019-07-19  已办结\n",
       "2020-04-21       国网沧州供电公司  投诉  沧州国富市场停车位建成门市乱接电线 安全隐患大  2019-07-18  已办结\n",
       "...                   ...  ..                      ...         ...  ...\n",
       "2020-04-28     石家庄市长安区住建局  投诉          河北石家庄赫石府延期几年不交房  2020-04-24  已办结\n",
       "2020-04-28     石家庄市长安区住建局  投诉           河北石家庄桃园丽景城何时交房  2020-04-24  已办结\n",
       "2020-04-28             部门  投诉  河北廊坊安次区海棠园物业私自打水井 窃取水资源  2020-03-19  已办结\n",
       "2020-04-28  围场满族蒙古族自治县教育…  投诉                        无  2020-04-23  已办结\n",
       "2020-04-28             部门  投诉       唐山唐古路与钢厂道交叉口违停现场严重  2020-04-24  已办结\n",
       "\n",
       "[1120 rows x 5 columns]"
      ]
     },
     "execution_count": 42,
     "metadata": {},
     "output_type": "execute_result"
    }
   ],
   "source": [
    "df = df.sort_index()\n",
    "df"
   ]
  },
  {
   "cell_type": "code",
   "execution_count": 36,
   "metadata": {
    "collapsed": true
   },
   "outputs": [
    {
     "data": {
      "text/plain": [
       "办结时间\n",
       "2020-04-22      河北廊坊大厂潮白馨居小区不让租户回小区 去哪隔离？\n",
       "2020-04-22     河北唐山唐港高速交警事故车辆指派高价拖车 1300元\n",
       "2020-04-22            河北廊坊市三河市环保局不发工资 望监管\n",
       "2020-04-22         河北唐山市缸窑路与建华东道交叉口北侧严重拥堵\n",
       "2020-04-22         唐山市路北区时代景苑小区附近停车难 无停车位\n",
       "                         ...             \n",
       "2020-04-22      河北承德市兴隆一中网课没有休息时间 休息日成考试日\n",
       "2020-04-22                河北邯郸市自来水公司收费不透明\n",
       "2020-04-22                     河北邯郸爱泊车乱收费\n",
       "2020-04-22     河北邯郸丰泰南区附近马路绿化树木虫子多 虫尿随处都是\n",
       "2020-04-22    河北定州清风店北街房子30年出现漏水 是否可翻盖房子？\n",
       "Name: 主题, Length: 196, dtype: object"
      ]
     },
     "execution_count": 36,
     "metadata": {},
     "output_type": "execute_result"
    }
   ],
   "source": [
    "df.loc[\"2020-04-22\",\"主题\"]"
   ]
  },
  {
   "cell_type": "code",
   "execution_count": 45,
   "metadata": {},
   "outputs": [
    {
     "data": {
      "text/plain": [
       "办结时间\n",
       "2020-04-22                                 无\n",
       "2020-04-22         沧州沧县兴济镇电管站接三相电吃拿卡要 小企业被刁难\n",
       "2020-04-22         河北沧州献县五馆停车场内有车绕五馆有玩漂移 太危险\n",
       "2020-04-22           河北保定市竞秀区棉纺十栋楼适龄儿童无法就近入学\n",
       "2020-04-22    河北沧州市永济路加装防护栏 四合家园和烟草宿舍居民盼开设路口\n",
       "                           ...              \n",
       "2020-04-23            河北沧州市肃宁从天津出差人员 还需要隔离吗？\n",
       "2020-04-23           河北廊坊文安县大柳河镇流庄村户口如何办理转移？\n",
       "2020-04-23             河北衡水景县景新大街路灯杆晃动 有安全隐患\n",
       "2020-04-23            河北唐山市开平区新苑路88号邮政快递车辆堵路\n",
       "2020-04-23                河北唐山路北勒泰城小区迟迟不下房产证\n",
       "Name: 主题, Length: 349, dtype: object"
      ]
     },
     "execution_count": 45,
     "metadata": {},
     "output_type": "execute_result"
    }
   ],
   "source": [
    "df.loc[\"2020-04-22\":\"2020-04-23\",\"主题\"]"
   ]
  },
  {
   "cell_type": "code",
   "execution_count": 55,
   "metadata": {
    "scrolled": true
   },
   "outputs": [
    {
     "data": {
      "text/plain": [
       "办结时间\n",
       "2020-04-21     84\n",
       "2020-04-22    196\n",
       "2020-04-23    153\n",
       "2020-04-24    237\n",
       "2020-04-25     10\n",
       "2020-04-26    177\n",
       "2020-04-27    217\n",
       "2020-04-28     46\n",
       "Name: 主题, dtype: int64"
      ]
     },
     "execution_count": 55,
     "metadata": {},
     "output_type": "execute_result"
    }
   ],
   "source": [
    "data = df.groupby(\"办结时间\")[\"主题\"].count()\n",
    "data"
   ]
  },
  {
   "cell_type": "code",
   "execution_count": 61,
   "metadata": {
    "scrolled": true
   },
   "outputs": [
    {
     "data": {
      "text/plain": [
       "[84, 196, 153, 237, 10, 177, 217, 46]"
      ]
     },
     "execution_count": 61,
     "metadata": {},
     "output_type": "execute_result"
    }
   ],
   "source": [
    "list(data.values)"
   ]
  },
  {
   "cell_type": "code",
   "execution_count": 63,
   "metadata": {},
   "outputs": [
    {
     "data": {
      "text/plain": [
       "['2020-04-21',\n",
       " '2020-04-22',\n",
       " '2020-04-23',\n",
       " '2020-04-24',\n",
       " '2020-04-25',\n",
       " '2020-04-26',\n",
       " '2020-04-27',\n",
       " '2020-04-28']"
      ]
     },
     "execution_count": 63,
     "metadata": {},
     "output_type": "execute_result"
    }
   ],
   "source": [
    "list(data.index)"
   ]
  },
  {
   "cell_type": "code",
   "execution_count": 57,
   "metadata": {},
   "outputs": [
    {
     "data": {
      "text/plain": [
       "8"
      ]
     },
     "execution_count": 57,
     "metadata": {},
     "output_type": "execute_result"
    }
   ],
   "source": [
    "len(data.index)"
   ]
  },
  {
   "cell_type": "code",
   "execution_count": 52,
   "metadata": {},
   "outputs": [
    {
     "data": {
      "text/plain": [
       "pandas.core.series.Series"
      ]
     },
     "execution_count": 52,
     "metadata": {},
     "output_type": "execute_result"
    }
   ],
   "source": [
    "type(data)"
   ]
  },
  {
   "cell_type": "code",
   "execution_count": 58,
   "metadata": {},
   "outputs": [],
   "source": [
    "from matplotlib import pyplot as plt\n",
    "import matplotlib\n",
    "matplotlib.rc\n",
    "font = {'family' : 'MicroSoft YaHei'}"
   ]
  },
  {
   "cell_type": "code",
   "execution_count": 80,
   "metadata": {},
   "outputs": [
    {
     "data": {
      "image/png": "[encoded data removed]",
      "text/plain": [
       "<Figure size 1600x640 with 1 Axes>"
      ]
     },
     "metadata": {
      "needs_background": "light"
     },
     "output_type": "display_data"
    }
   ],
   "source": [
    "_x = [i for i in range(len(data.index))]\n",
    "plt.figure(figsize=(20,8),dpi=80)\n",
    "plt.plot(_x,list(data.values))\n",
    "plt.xticks(_x,list(data.index))\n",
    "plt.grid(alpha=0.4)\n",
    "plt.show()"
   ]
  },
  {
   "cell_type": "code",
   "execution_count": 71,
   "metadata": {},
   "outputs": [
    {
     "data": {
      "text/plain": [
       "[0, 1, 2, 3, 4, 5, 6, 7]"
      ]
     },
     "execution_count": 71,
     "metadata": {},
     "output_type": "execute_result"
    }
   ],
   "source": [
    "_x"
   ]
  },
  {
   "cell_type": "code",
   "execution_count": 81,
   "metadata": {},
   "outputs": [
    {
     "data": {
      "text/html": [
       "<div>\n",
       "<style scoped>\n",
       "    .dataframe tbody tr th:only-of-type {\n",
       "        vertical-align: middle;\n",
       "    }\n",
       "\n",
       "    .dataframe tbody tr th {\n",
       "        vertical-align: top;\n",
       "    }\n",
       "\n",
       "    .dataframe thead th {\n",
       "        text-align: right;\n",
       "    }\n",
       "</style>\n",
       "<table border=\"1\" class=\"dataframe\">\n",
       "  <thead>\n",
       "    <tr style=\"text-align: right;\">\n",
       "      <th></th>\n",
       "      <th>受理单位</th>\n",
       "      <th>分类</th>\n",
       "      <th>主题</th>\n",
       "      <th>受理时间</th>\n",
       "      <th>办理状态</th>\n",
       "    </tr>\n",
       "    <tr>\n",
       "      <th>办结时间</th>\n",
       "      <th></th>\n",
       "      <th></th>\n",
       "      <th></th>\n",
       "      <th></th>\n",
       "      <th></th>\n",
       "    </tr>\n",
       "  </thead>\n",
       "  <tbody>\n",
       "    <tr>\n",
       "      <th>2020-04-21</th>\n",
       "      <td>部门</td>\n",
       "      <td>投诉</td>\n",
       "      <td>河北邯郸市丛台区邯印社区夜间施工扰民 深夜无眠</td>\n",
       "      <td>2020-04-21</td>\n",
       "      <td>已办结</td>\n",
       "    </tr>\n",
       "    <tr>\n",
       "      <th>2020-04-21</th>\n",
       "      <td>邯郸市自然资源和规划局</td>\n",
       "      <td>投诉</td>\n",
       "      <td>邯郸武安景富茗园开发商私改户型 墙体开裂</td>\n",
       "      <td>2019-04-18</td>\n",
       "      <td>已办结</td>\n",
       "    </tr>\n",
       "    <tr>\n",
       "      <th>2020-04-21</th>\n",
       "      <td>邯郸市自然资源和规划局</td>\n",
       "      <td>投诉</td>\n",
       "      <td>邯郸大名史家村无证建房 请尽快制止</td>\n",
       "      <td>2019-04-26</td>\n",
       "      <td>已办结</td>\n",
       "    </tr>\n",
       "    <tr>\n",
       "      <th>2020-04-21</th>\n",
       "      <td>国网沧州供电公司</td>\n",
       "      <td>投诉</td>\n",
       "      <td>沧州市新华区榕城世家施工院内夜晚有噪音扰民</td>\n",
       "      <td>2019-07-19</td>\n",
       "      <td>已办结</td>\n",
       "    </tr>\n",
       "    <tr>\n",
       "      <th>2020-04-21</th>\n",
       "      <td>国网沧州供电公司</td>\n",
       "      <td>投诉</td>\n",
       "      <td>沧州国富市场停车位建成门市乱接电线 安全隐患大</td>\n",
       "      <td>2019-07-18</td>\n",
       "      <td>已办结</td>\n",
       "    </tr>\n",
       "    <tr>\n",
       "      <th>...</th>\n",
       "      <td>...</td>\n",
       "      <td>...</td>\n",
       "      <td>...</td>\n",
       "      <td>...</td>\n",
       "      <td>...</td>\n",
       "    </tr>\n",
       "    <tr>\n",
       "      <th>2020-04-28</th>\n",
       "      <td>石家庄市长安区住建局</td>\n",
       "      <td>投诉</td>\n",
       "      <td>河北石家庄赫石府延期几年不交房</td>\n",
       "      <td>2020-04-24</td>\n",
       "      <td>已办结</td>\n",
       "    </tr>\n",
       "    <tr>\n",
       "      <th>2020-04-28</th>\n",
       "      <td>石家庄市长安区住建局</td>\n",
       "      <td>投诉</td>\n",
       "      <td>河北石家庄桃园丽景城何时交房</td>\n",
       "      <td>2020-04-24</td>\n",
       "      <td>已办结</td>\n",
       "    </tr>\n",
       "    <tr>\n",
       "      <th>2020-04-28</th>\n",
       "      <td>部门</td>\n",
       "      <td>投诉</td>\n",
       "      <td>河北廊坊安次区海棠园物业私自打水井 窃取水资源</td>\n",
       "      <td>2020-03-19</td>\n",
       "      <td>已办结</td>\n",
       "    </tr>\n",
       "    <tr>\n",
       "      <th>2020-04-28</th>\n",
       "      <td>围场满族蒙古族自治县教育…</td>\n",
       "      <td>投诉</td>\n",
       "      <td>无</td>\n",
       "      <td>2020-04-23</td>\n",
       "      <td>已办结</td>\n",
       "    </tr>\n",
       "    <tr>\n",
       "      <th>2020-04-28</th>\n",
       "      <td>部门</td>\n",
       "      <td>投诉</td>\n",
       "      <td>唐山唐古路与钢厂道交叉口违停现场严重</td>\n",
       "      <td>2020-04-24</td>\n",
       "      <td>已办结</td>\n",
       "    </tr>\n",
       "  </tbody>\n",
       "</table>\n",
       "<p>1120 rows × 5 columns</p>\n",
       "</div>"
      ],
      "text/plain": [
       "                     受理单位  分类                       主题        受理时间 办理状态\n",
       "办结时间                                                                   \n",
       "2020-04-21             部门  投诉  河北邯郸市丛台区邯印社区夜间施工扰民 深夜无眠  2020-04-21  已办结\n",
       "2020-04-21    邯郸市自然资源和规划局  投诉     邯郸武安景富茗园开发商私改户型 墙体开裂  2019-04-18  已办结\n",
       "2020-04-21    邯郸市自然资源和规划局  投诉        邯郸大名史家村无证建房 请尽快制止  2019-04-26  已办结\n",
       "2020-04-21       国网沧州供电公司  投诉    沧州市新华区榕城世家施工院内夜晚有噪音扰民  2019-07-19  已办结\n",
       "2020-04-21       国网沧州供电公司  投诉  沧州国富市场停车位建成门市乱接电线 安全隐患大  2019-07-18  已办结\n",
       "...                   ...  ..                      ...         ...  ...\n",
       "2020-04-28     石家庄市长安区住建局  投诉          河北石家庄赫石府延期几年不交房  2020-04-24  已办结\n",
       "2020-04-28     石家庄市长安区住建局  投诉           河北石家庄桃园丽景城何时交房  2020-04-24  已办结\n",
       "2020-04-28             部门  投诉  河北廊坊安次区海棠园物业私自打水井 窃取水资源  2020-03-19  已办结\n",
       "2020-04-28  围场满族蒙古族自治县教育…  投诉                        无  2020-04-23  已办结\n",
       "2020-04-28             部门  投诉       唐山唐古路与钢厂道交叉口违停现场严重  2020-04-24  已办结\n",
       "\n",
       "[1120 rows x 5 columns]"
      ]
     },
     "execution_count": 81,
     "metadata": {},
     "output_type": "execute_result"
    }
   ],
   "source": [
    "d'f"
   ]
  },
  {
   "cell_type": "code",
   "execution_count": 85,
   "metadata": {},
   "outputs": [],
   "source": [
    "df = df.reset_index()"
   ]
  },
  {
   "cell_type": "code",
   "execution_count": 92,
   "metadata": {},
   "outputs": [],
   "source": [
    "df.to_csv(\"./阳光理政clean.csv\", index=False,encoding=\"utf_8_sig\")"
   ]
  },
  {
   "cell_type": "code",
   "execution_count": null,
   "metadata": {},
   "outputs": [],
   "source": []
  }
 ],
 "metadata": {
  "kernelspec": {
   "display_name": "Python 3",
   "language": "python",
   "name": "python3"
  },
  "language_info": {
   "codemirror_mode": {
    "name": "ipython",
    "version": 3
   },
   "file_extension": ".py",
   "mimetype": "text/x-python",
   "name": "python",
   "nbconvert_exporter": "python",
   "pygments_lexer": "ipython3",
   "version": "3.7.6"
  }
 },
 "nbformat": 4,
 "nbformat_minor": 4
}
